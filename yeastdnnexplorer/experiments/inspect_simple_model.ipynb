{
 "cells": [
  {
   "cell_type": "code",
   "execution_count": 1,
   "metadata": {},
   "outputs": [],
   "source": [
    "# imports\n",
    "import argparse\n",
    "from argparse import Namespace\n",
    "\n",
    "from pytorch_lightning import Trainer, LightningModule, seed_everything\n",
    "from pytorch_lightning.callbacks import ModelCheckpoint\n",
    "from pytorch_lightning.loggers import CSVLogger, TensorBoardLogger\n",
    "\n",
    "from yeastdnnexplorer.data_loaders.synthetic_data_loader import SyntheticDataLoader\n",
    "from yeastdnnexplorer.ml_models.simple_model import SimpleModel\n",
    "\n",
    "import matplotlib.pyplot as plt\n",
    "import seaborn as sns"
   ]
  },
  {
   "cell_type": "code",
   "execution_count": 2,
   "metadata": {},
   "outputs": [
    {
     "name": "stderr",
     "output_type": "stream",
     "text": [
      "Seed set to 42\n"
     ]
    },
    {
     "data": {
      "text/plain": [
       "42"
      ]
     },
     "execution_count": 2,
     "metadata": {},
     "output_type": "execute_result"
    }
   ],
   "source": [
    "# set random seed for reproducibility\n",
    "seed_everything(42)"
   ]
  },
  {
   "cell_type": "code",
   "execution_count": 10,
   "metadata": {},
   "outputs": [],
   "source": [
    "# helper function to load a model from a checkpoint file\n",
    "def load_model(checkpoint_path: str, model: LightningModule = None):\n",
    "    '''\n",
    "    Load a model from a checkpoint file\n",
    "    :param checkpoint_path: path to the checkpoint file (relative to experiments directory)\n",
    "    :type checkpoint_path: str\n",
    "    :param model: Class that the model we want to load is an instance of\n",
    "    :type model: LightningModule\n",
    "    :return: The model loaded from the checkpoint\n",
    "    :rtype: LightningModule\n",
    "    :raises NotImplementedError: If no model is provided\n",
    "    '''\n",
    "    if type(model) is not type:\n",
    "        raise NotImplementedError(\"Provided model must be an uninstantiated LightningModule class, not an instance of the class.\")\n",
    "    if model is None:\n",
    "        raise NotImplementedError(\"No model provided\")\n",
    "    \n",
    "    # load the model from the checkpoint\n",
    "    model_checkpoint = model.load_from_checkpoint(checkpoint_path)\n",
    "    return model_checkpoint"
   ]
  },
  {
   "cell_type": "code",
   "execution_count": 14,
   "metadata": {},
   "outputs": [],
   "source": [
    "# load in model checkpoint of your choice\n",
    "# file path is relative to the yeastdnnexplorer/experiemtns directory\n",
    "model = load_model(\n",
    "    \"logs/tensorboard_logs/lightning_logs/version_39/checkpoints/best-model-epoch=04-val_loss=4.40.ckpt\", \n",
    "    SimpleModel\n",
    ")"
   ]
  },
  {
   "cell_type": "markdown",
   "metadata": {},
   "source": [
    "Note that when we print out a tensor with all of the path weights between two layers in the neural net, each row of the tensor corresponds to one of the nodes in the output layer. For example, if we have a 10-dim input and a 5-dim output, the first row will have ten entries, and the ith entry in that row will be the path weight from the ith input node to the first output node. (the [i][j] entry will be the path from the jth input to the ith output)"
   ]
  },
  {
   "cell_type": "code",
   "execution_count": 15,
   "metadata": {},
   "outputs": [
    {
     "name": "stdout",
     "output_type": "stream",
     "text": [
      "Model Hyperparameters===========================================\n",
      "\"input_dim\":  10\n",
      "\"lr\":         0.01\n",
      "\"output_dim\": 10\n",
      "Model Parameters================================================\n",
      "linear1.weight: torch.Size([10, 10])\n",
      "\ttensor([[ 7.9191e-02, -2.0490e-02,  5.8150e-02, -3.1544e-02,  6.9227e-03,\n",
      "          4.9296e-02,  6.1128e-02,  7.4726e-03,  1.0769e-01,  8.4209e-02],\n",
      "        [-2.1134e-02, -2.5358e-02, -1.0696e-01, -7.6675e-02,  7.8877e-02,\n",
      "         -7.9734e-02,  7.7578e-02, -3.1106e-02, -5.7358e-03,  2.2464e-02],\n",
      "        [ 7.7518e-02, -9.6759e-02, -2.3578e-02,  1.5780e-02,  9.6296e-02,\n",
      "         -1.1508e-01, -2.6132e-02,  1.1628e-02, -1.7045e-05,  6.7542e-03],\n",
      "        [ 2.5999e-02, -7.5231e-02,  9.2787e-02, -8.3737e-02, -7.1307e-02,\n",
      "          8.4179e-02,  4.7821e-02, -1.2645e-02,  5.1505e-02,  1.9591e-02],\n",
      "        [ 2.6926e-02, -8.4059e-03,  6.9162e-02,  9.5958e-03, -1.3270e-02,\n",
      "          1.4529e-02,  4.8225e-02,  2.6630e-02, -4.9199e-02,  7.6688e-02],\n",
      "        [-6.3999e-02, -3.3125e-02,  5.4994e-02,  1.8664e-02,  9.6138e-02,\n",
      "          1.2767e-02, -3.4534e-02,  6.9862e-02,  3.9379e-02, -2.4501e-03],\n",
      "        [ 2.8480e-03,  7.5345e-02, -2.0176e-02, -7.6095e-02,  1.4006e-02,\n",
      "         -6.4311e-02,  7.4266e-02,  3.3504e-02, -9.8667e-02, -4.9885e-02],\n",
      "        [-2.8475e-02,  1.7858e-02,  1.7756e-02,  3.3731e-02, -1.0017e-02,\n",
      "         -4.5498e-02, -4.2553e-02,  5.0583e-02,  2.2329e-03,  2.8486e-03],\n",
      "        [ 1.0287e-01, -2.7379e-02,  4.8309e-02, -6.7453e-02,  1.4935e-02,\n",
      "          3.0837e-02,  4.9968e-02, -1.7247e-02, -1.2329e-02,  8.6493e-02],\n",
      "        [ 1.6794e-04, -1.8028e-02, -1.2342e-02, -3.3482e-02, -1.2303e-02,\n",
      "          3.4772e-02, -1.9169e-02,  3.6680e-02,  4.4322e-02, -1.7751e-02]])\n",
      "linear1.bias: torch.Size([10])\n",
      "\ttensor([-0.1769,  0.0220,  0.0702, -0.0418, -0.1979, -0.0296,  0.0335, -0.0592,\n",
      "        -0.0590, -0.0421])\n"
     ]
    }
   ],
   "source": [
    "print(\"Model Hyperparameters===========================================\")\n",
    "print(model.hparams)\n",
    "\n",
    "print(\"Model Parameters================================================\")\n",
    "for name, param in model.named_parameters():\n",
    "    print(f\"{name}: {param.size()}\")\n",
    "    print(f\"\\t{param.data}\")"
   ]
  }
 ],
 "metadata": {
  "kernelspec": {
   "display_name": ".venv",
   "language": "python",
   "name": "python3"
  },
  "language_info": {
   "codemirror_mode": {
    "name": "ipython",
    "version": 3
   },
   "file_extension": ".py",
   "mimetype": "text/x-python",
   "name": "python",
   "nbconvert_exporter": "python",
   "pygments_lexer": "ipython3",
   "version": "3.11.5"
  }
 },
 "nbformat": 4,
 "nbformat_minor": 2
}
