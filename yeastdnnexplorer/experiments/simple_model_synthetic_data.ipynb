{
 "cells": [
  {
   "cell_type": "markdown",
   "metadata": {},
   "source": [
    "This has the same content as the simple_model_synthetc_data.py file, but it is moved into a notebook so that it is easier & more intuitive to perform data analysis on."
   ]
  },
  {
   "cell_type": "code",
   "execution_count": 7,
   "metadata": {},
   "outputs": [],
   "source": [
    "# imports\n",
    "import argparse\n",
    "from argparse import Namespace\n",
    "\n",
    "from pytorch_lightning import Trainer, LightningModule, seed_everything\n",
    "from pytorch_lightning.callbacks import ModelCheckpoint\n",
    "from pytorch_lightning.loggers import CSVLogger, TensorBoardLogger\n",
    "\n",
    "from yeastdnnexplorer.data_loaders.synthetic_data_loader import SyntheticDataLoader\n",
    "from yeastdnnexplorer.ml_models.simple_model import SimpleModel\n",
    "\n",
    "import matplotlib.pyplot as plt\n",
    "import seaborn as sns"
   ]
  },
  {
   "cell_type": "code",
   "execution_count": 8,
   "metadata": {},
   "outputs": [],
   "source": [
    "# define checkpoints for the model\n",
    "# tells it when to save snapshots of the model during training\n",
    "# Callback to save the best model based on validation loss\n",
    "best_model_checkpoint = ModelCheckpoint(\n",
    "    monitor=\"val_loss\",\n",
    "    mode=\"min\",\n",
    "    filename=\"best-model-{epoch:02d}-{val_loss:.2f}\",\n",
    "    save_top_k=1,\n",
    ")\n",
    "\n",
    "# Callback to save checkpoints every 5 epochs, regardless of performance\n",
    "periodic_checkpoint = ModelCheckpoint(\n",
    "    filename=\"periodic-{epoch:02d}\",\n",
    "    every_n_epochs=2,\n",
    "    save_top_k=-1,  # Setting -1 saves all checkpoints\n",
    ")"
   ]
  },
  {
   "cell_type": "code",
   "execution_count": 9,
   "metadata": {},
   "outputs": [],
   "source": [
    "# configure loggers\n",
    "tb_logger = TensorBoardLogger(\"logs/tensorboard_logs\")\n",
    "csv_logger = CSVLogger(\"logs/csv_logs\")"
   ]
  },
  {
   "cell_type": "markdown",
   "metadata": {},
   "source": [
    "Note that the experiment below will also save logs and checkpoints to the experiments/logs directory"
   ]
  },
  {
   "cell_type": "code",
   "execution_count": 10,
   "metadata": {},
   "outputs": [],
   "source": [
    "from torchsummary import summary\n",
    "def simple_model_synthetic_data_experiment(\n",
    "    batch_size: int,\n",
    "    lr: float,\n",
    "    max_epochs: int,\n",
    "    using_random_seed: bool,\n",
    "    accelerator: str,\n",
    "    num_genes: int,\n",
    "    signal_mean: float,\n",
    "    val_size: float,\n",
    "    test_size: float,\n",
    "    signal: list[float],\n",
    "    n_sample: list[int],\n",
    ") -> LightningModule:\n",
    "    \"\"\"\n",
    "    Trains a SimpleModel on synthetic data and saves the best model based on validation\n",
    "    loss. Defines an instance of Trainer, which is used to train the model with the\n",
    "    given dataModule. While much of the training process is captured via logging, we\n",
    "    also print the test results at the end of training. We don't need to do assrtions\n",
    "    for type checking, as this was done in the parse_args_for_synthetic_data_experiment\n",
    "    function.\n",
    "\n",
    "    :param batch_size: The batch size to use for training\n",
    "    :type batch_size: int\n",
    "    :param lr: The learning rate to use for training\n",
    "    :type lr: float\n",
    "    :param max_epochs: The maximum number of epochs to train for\n",
    "    :type max_epochs: int\n",
    "    :param using_random_seed: Whether or not to use a random seed for reproducibility\n",
    "    :type using_random_seed: bool\n",
    "    :param accelerator: The accelerator to use for training (e.g. 'gpu', 'cpu')\n",
    "    :type accelerator: str\n",
    "    :param num_genes: The number of genes to generate synthetic data for (rows of matrix)\n",
    "    :type num_genes: int\n",
    "    :param signal_mean: The mean of the signal to use for generating synthetic data\n",
    "    :type signal_mean: float\n",
    "    :param val_size: The proportion of the data to use for validation\n",
    "    :type val_size: float\n",
    "    :param test_size: The proportion of the data to use for testing\n",
    "    :type test_size: float\n",
    "    :param signal: The percentage of each sample to put in the signal group\n",
    "    :type signal: list[float]\n",
    "    :param n_sample: The number of samples to generate for each signal group, the sum of which is the number of TFs\n",
    "    :type n_sample: list[int]\n",
    "\n",
    "    \"\"\"\n",
    "\n",
    "    data_module = SyntheticDataLoader(\n",
    "        batch_size=batch_size,\n",
    "        num_genes=num_genes,\n",
    "        signal_mean=signal_mean,\n",
    "        signal=signal,  # old: [0.1, 0.15, 0.2, 0.25, 0.3],\n",
    "        n_sample=n_sample,  # sum of this is num of tfs\n",
    "        val_size=val_size,\n",
    "        test_size=test_size,\n",
    "        random_state=42,\n",
    "    )\n",
    "\n",
    "    num_tfs = sum(data_module.n_sample)  # sum of all n_sample is the number of TFs\n",
    "\n",
    "    model = SimpleModel(input_dim=num_tfs, output_dim=num_tfs, lr=lr)\n",
    "    trainer = Trainer(\n",
    "        max_epochs=max_epochs,\n",
    "        deterministic=using_random_seed,\n",
    "        accelerator=accelerator,\n",
    "        callbacks=[best_model_checkpoint, periodic_checkpoint],\n",
    "        logger=[tb_logger, csv_logger],\n",
    "    )\n",
    "    trainer.fit(model, data_module)\n",
    "\n",
    "    test_results = trainer.test(model, datamodule=data_module)\n",
    "    print(\"Printing test results...\")\n",
    "    print(\n",
    "        test_results\n",
    "    )  # this prints all metrics that were logged during the test phase\n",
    "\n",
    "    # print summary of model\n",
    "    print(\"Printing model summary...\")\n",
    "    summary(model, (num_tfs, num_tfs)) \n",
    "\n",
    "    return model, test_results"
   ]
  },
  {
   "cell_type": "code",
   "execution_count": 11,
   "metadata": {},
   "outputs": [
    {
     "name": "stderr",
     "output_type": "stream",
     "text": [
      "Seed set to 42\n",
      "GPU available: False, used: False\n",
      "TPU available: False, using: 0 TPU cores\n",
      "IPU available: False, using: 0 IPUs\n",
      "HPU available: False, using: 0 HPUs\n",
      "/Users/benmueller/2024Classes/BrentResearch/git_repos/yeastdnnexplorer/yeastdnnexplorer/data_loaders/synthetic_data_loader.py:209: UserWarning: To copy construct from a tensor, it is recommended to use sourceTensor.clone().detach() or sourceTensor.clone().detach().requires_grad_(True), rather than torch.tensor(sourceTensor).\n",
      "  X_train, Y_train = torch.tensor(X_train, dtype=torch.float32), torch.tensor(\n",
      "/Users/benmueller/2024Classes/BrentResearch/git_repos/yeastdnnexplorer/yeastdnnexplorer/data_loaders/synthetic_data_loader.py:212: UserWarning: To copy construct from a tensor, it is recommended to use sourceTensor.clone().detach() or sourceTensor.clone().detach().requires_grad_(True), rather than torch.tensor(sourceTensor).\n",
      "  X_val, Y_val = torch.tensor(X_val, dtype=torch.float32), torch.tensor(\n",
      "/Users/benmueller/2024Classes/BrentResearch/git_repos/yeastdnnexplorer/yeastdnnexplorer/data_loaders/synthetic_data_loader.py:215: UserWarning: To copy construct from a tensor, it is recommended to use sourceTensor.clone().detach() or sourceTensor.clone().detach().requires_grad_(True), rather than torch.tensor(sourceTensor).\n",
      "  X_test, Y_test = torch.tensor(X_test, dtype=torch.float32), torch.tensor(\n",
      "\n",
      "  | Name    | Type   | Params\n",
      "-----------------------------------\n",
      "0 | linear1 | Linear | 110   \n",
      "-----------------------------------\n",
      "110       Trainable params\n",
      "0         Non-trainable params\n",
      "110       Total params\n",
      "0.000     Total estimated model params size (MB)\n"
     ]
    },
    {
     "name": "stdout",
     "output_type": "stream",
     "text": [
      "bm - creating perturbation effects list with signal_mean: 3.0\n",
      "bm - also signal is  [0.5, 0.5, 0.5, 0.5, 0.5]\n",
      "bm - and also n_sample is  [1, 1, 2, 2, 4]\n"
     ]
    },
    {
     "data": {
      "application/vnd.jupyter.widget-view+json": {
       "model_id": "6a56d984e8c0420e85dddb4b4153274c",
       "version_major": 2,
       "version_minor": 0
      },
      "text/plain": [
       "Sanity Checking: |          | 0/? [00:00<?, ?it/s]"
      ]
     },
     "metadata": {},
     "output_type": "display_data"
    },
    {
     "name": "stderr",
     "output_type": "stream",
     "text": [
      "/Users/benmueller/2024Classes/BrentResearch/git_repos/yeastdnnexplorer/.venv/lib/python3.11/site-packages/pytorch_lightning/loops/fit_loop.py:293: The number of training batches (25) is smaller than the logging interval Trainer(log_every_n_steps=50). Set a lower value for log_every_n_steps if you want to see logs for the training epoch.\n"
     ]
    },
    {
     "data": {
      "application/vnd.jupyter.widget-view+json": {
       "model_id": "a12dbf468053420e884ac57427983be3",
       "version_major": 2,
       "version_minor": 0
      },
      "text/plain": [
       "Training: |          | 0/? [00:00<?, ?it/s]"
      ]
     },
     "metadata": {},
     "output_type": "display_data"
    },
    {
     "data": {
      "application/vnd.jupyter.widget-view+json": {
       "model_id": "22478de59c4a4bb197b6fe7a402dfbb3",
       "version_major": 2,
       "version_minor": 0
      },
      "text/plain": [
       "Validation: |          | 0/? [00:00<?, ?it/s]"
      ]
     },
     "metadata": {},
     "output_type": "display_data"
    },
    {
     "data": {
      "application/vnd.jupyter.widget-view+json": {
       "model_id": "a66524b466144b70b42bf15f0f716ed9",
       "version_major": 2,
       "version_minor": 0
      },
      "text/plain": [
       "Validation: |          | 0/? [00:00<?, ?it/s]"
      ]
     },
     "metadata": {},
     "output_type": "display_data"
    },
    {
     "data": {
      "application/vnd.jupyter.widget-view+json": {
       "model_id": "d97d316acebb4503bc0a6ab131e9dcf7",
       "version_major": 2,
       "version_minor": 0
      },
      "text/plain": [
       "Validation: |          | 0/? [00:00<?, ?it/s]"
      ]
     },
     "metadata": {},
     "output_type": "display_data"
    },
    {
     "data": {
      "application/vnd.jupyter.widget-view+json": {
       "model_id": "ec3f2ea102dd49de8099ba5278586378",
       "version_major": 2,
       "version_minor": 0
      },
      "text/plain": [
       "Validation: |          | 0/? [00:00<?, ?it/s]"
      ]
     },
     "metadata": {},
     "output_type": "display_data"
    },
    {
     "data": {
      "application/vnd.jupyter.widget-view+json": {
       "model_id": "f546aa3857ea4a4f9e81569dccd2e098",
       "version_major": 2,
       "version_minor": 0
      },
      "text/plain": [
       "Validation: |          | 0/? [00:00<?, ?it/s]"
      ]
     },
     "metadata": {},
     "output_type": "display_data"
    },
    {
     "data": {
      "application/vnd.jupyter.widget-view+json": {
       "model_id": "df2ed3f7033240c5b3aab06586273178",
       "version_major": 2,
       "version_minor": 0
      },
      "text/plain": [
       "Validation: |          | 0/? [00:00<?, ?it/s]"
      ]
     },
     "metadata": {},
     "output_type": "display_data"
    },
    {
     "data": {
      "application/vnd.jupyter.widget-view+json": {
       "model_id": "0ce71eaf36a54470b27df68f088de392",
       "version_major": 2,
       "version_minor": 0
      },
      "text/plain": [
       "Validation: |          | 0/? [00:00<?, ?it/s]"
      ]
     },
     "metadata": {},
     "output_type": "display_data"
    },
    {
     "data": {
      "application/vnd.jupyter.widget-view+json": {
       "model_id": "695a0316d3ec4d9097b2d5619cfb49b2",
       "version_major": 2,
       "version_minor": 0
      },
      "text/plain": [
       "Validation: |          | 0/? [00:00<?, ?it/s]"
      ]
     },
     "metadata": {},
     "output_type": "display_data"
    },
    {
     "data": {
      "application/vnd.jupyter.widget-view+json": {
       "model_id": "0dc59ff480d64b0698776945ce29742e",
       "version_major": 2,
       "version_minor": 0
      },
      "text/plain": [
       "Validation: |          | 0/? [00:00<?, ?it/s]"
      ]
     },
     "metadata": {},
     "output_type": "display_data"
    },
    {
     "data": {
      "application/vnd.jupyter.widget-view+json": {
       "model_id": "ce7cc0d5424e4d8d8d7cbe9b78549a2b",
       "version_major": 2,
       "version_minor": 0
      },
      "text/plain": [
       "Validation: |          | 0/? [00:00<?, ?it/s]"
      ]
     },
     "metadata": {},
     "output_type": "display_data"
    },
    {
     "name": "stderr",
     "output_type": "stream",
     "text": [
      "`Trainer.fit` stopped: `max_epochs=10` reached.\n"
     ]
    },
    {
     "name": "stdout",
     "output_type": "stream",
     "text": [
      "bm - creating perturbation effects list with signal_mean: 3.0\n",
      "bm - also signal is  [0.5, 0.5, 0.5, 0.5, 0.5]\n",
      "bm - and also n_sample is  [1, 1, 2, 2, 4]\n"
     ]
    },
    {
     "data": {
      "application/vnd.jupyter.widget-view+json": {
       "model_id": "16ea6d945c3d424bba4fa2a3a4ca454a",
       "version_major": 2,
       "version_minor": 0
      },
      "text/plain": [
       "Testing: |          | 0/? [00:00<?, ?it/s]"
      ]
     },
     "metadata": {},
     "output_type": "display_data"
    },
    {
     "name": "stdout",
     "output_type": "stream",
     "text": [
      "────────────────────────────────────────────────────────────────────────────────────────────────────────────────────────\n",
      "       Test metric             DataLoader 0\n",
      "────────────────────────────────────────────────────────────────────────────────────────────────────────────────────────\n",
      "        test_loss           10.104333877563477\n",
      "────────────────────────────────────────────────────────────────────────────────────────────────────────────────────────\n",
      "Printing test results...\n",
      "[{'test_loss': 10.104333877563477}]\n",
      "Printing model summary...\n",
      "----------------------------------------------------------------\n",
      "        Layer (type)               Output Shape         Param #\n",
      "================================================================\n",
      "            Linear-1               [-1, 10, 10]             110\n",
      "================================================================\n",
      "Total params: 110\n",
      "Trainable params: 110\n",
      "Non-trainable params: 0\n",
      "----------------------------------------------------------------\n",
      "Input size (MB): 0.00\n",
      "Forward/backward pass size (MB): 0.00\n",
      "Params size (MB): 0.00\n",
      "Estimated Total Size (MB): 0.00\n",
      "----------------------------------------------------------------\n"
     ]
    },
    {
     "data": {
      "text/plain": [
       "(SimpleModel(\n",
       "   (linear1): Linear(in_features=10, out_features=10, bias=True)\n",
       " ),\n",
       " [{'test_loss': 10.104333877563477}])"
      ]
     },
     "execution_count": 11,
     "metadata": {},
     "output_type": "execute_result"
    }
   ],
   "source": [
    "# Set values and run the experiment\n",
    "seed_everything(42)\n",
    "simple_model_synthetic_data_experiment(\n",
    "    batch_size=32,\n",
    "    lr=0.01,\n",
    "    max_epochs=10,\n",
    "    using_random_seed=True,\n",
    "    accelerator=\"cpu\",\n",
    "    num_genes=1000,\n",
    "    val_size=0.1,\n",
    "    test_size=0.1,\n",
    "    signal=[0.5] * 5,  # old: [0.1, 0.15, 0.2, 0.25, 0.3],   # [0.5] * 5\n",
    "    n_sample=[1, 1, 2, 2, 4],  # sum of this is num of tfs   # [1, 1, 2, 2, 4]\n",
    "    signal_mean=3.0\n",
    ")"
   ]
  },
  {
   "cell_type": "markdown",
   "metadata": {},
   "source": [
    "Experiment to see how the mse changes as a function of the signal mean"
   ]
  },
  {
   "cell_type": "code",
   "execution_count": null,
   "metadata": {},
   "outputs": [],
   "source": [
    "# little experiment to see how the mse changes as a function of the signal mean\n",
    "signal_means = [0.5, 1.0, 2.0, 3.0, 5.0, 10.0]\n",
    "mse = []\n",
    "for signal_mean in signal_means:\n",
    "    model, test_results = simple_model_synthetic_data_experiment(\n",
    "        batch_size=32,\n",
    "        lr=0.01,\n",
    "        max_epochs=10,\n",
    "        using_random_seed=True,\n",
    "        accelerator=\"cpu\",\n",
    "        num_genes=1000,\n",
    "        val_size=0.1,\n",
    "        test_size=0.1,\n",
    "        signal=[0.5] * 5,  # old: [0.1, 0.15, 0.2, 0.25, 0.3],   # [0.5] * 5\n",
    "        n_sample=[1, 1, 2, 2, 4],  # sum of this is num of tfs    # [1, 1, 2, 2, 4]\n",
    "        signal_mean=signal_mean  # this is the perturb effect signal mean\n",
    "    )\n",
    "    print(test_results)\n",
    "    mse.append(test_results[0][\"test_loss\"])"
   ]
  },
  {
   "cell_type": "code",
   "execution_count": null,
   "metadata": {},
   "outputs": [
    {
     "data": {
      "image/png": "[encoded data removed]",
      "text/plain": [
       "<Figure size 640x480 with 1 Axes>"
      ]
     },
     "metadata": {},
     "output_type": "display_data"
    }
   ],
   "source": [
    "# plottig results of experiment\n",
    "plt.plot(signal_means, mse)\n",
    "plt.xlabel(\"Signal Mean\")\n",
    "plt.ylabel(\"Test MSE\")\n",
    "plt.title(\"Test MSE as a function of Signal Mean\")\n",
    "plt.show()"
   ]
  }
 ],
 "metadata": {
  "kernelspec": {
   "display_name": "Python 3 (ipykernel)",
   "language": "python",
   "name": "python3"
  },
  "language_info": {
   "codemirror_mode": {
    "name": "ipython",
    "version": 3
   },
   "file_extension": ".py",
   "mimetype": "text/x-python",
   "name": "python",
   "nbconvert_exporter": "python",
   "pygments_lexer": "ipython3",
   "version": "3.11.5"
  }
 },
 "nbformat": 4,
 "nbformat_minor": 4
}
