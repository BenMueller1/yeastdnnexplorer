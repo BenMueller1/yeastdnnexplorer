{
 "cells": [
  {
   "cell_type": "code",
   "execution_count": 10,
   "metadata": {},
   "outputs": [
    {
     "name": "stderr",
     "output_type": "stream",
     "text": [
      "Seed set to 42\n"
     ]
    },
    {
     "data": {
      "text/plain": [
       "42"
      ]
     },
     "execution_count": 10,
     "metadata": {},
     "output_type": "execute_result"
    }
   ],
   "source": [
    "# imports\n",
    "import argparse\n",
    "from argparse import Namespace\n",
    "\n",
    "from pytorch_lightning import Trainer, LightningModule, seed_everything\n",
    "from pytorch_lightning.callbacks import ModelCheckpoint\n",
    "from pytorch_lightning.loggers import CSVLogger, TensorBoardLogger\n",
    "from torchsummary import summary\n",
    "\n",
    "from yeastdnnexplorer.data_loaders.synthetic_data_loader import SyntheticDataLoader\n",
    "from yeastdnnexplorer.ml_models.simple_model import SimpleModel\n",
    "from yeastdnnexplorer.ml_models.customizable_model import CustomizableModel\n",
    "\n",
    "import optuna\n",
    "\n",
    "import matplotlib.pyplot as plt\n",
    "import seaborn as sns\n",
    "\n",
    "from yeastdnnexplorer.probability_models.relation_classes import Relation, And, Or\n",
    "from yeastdnnexplorer.probability_models.generate_data import (\n",
    "    perturbation_effect_adjustment_function_with_tf_relationships,\n",
    "    perturbation_effect_adjustment_function_with_tf_relationships_boolean_logic\n",
    ")\n",
    "\n",
    "seed_everything(42)"
   ]
  },
  {
   "cell_type": "markdown",
   "metadata": {},
   "source": [
    "In this notebook, we train an identical model on data gnenerating using our 4 mean adjustment methods\n",
    "1. No adjustment\n",
    "2. Adjust all tf means\n",
    "3. Adjust tf means only if certain other tfs are bound for the gene\n",
    "4. Adjust mean only if a list of boolean relations are satisfied among which TFs are bound for the current gene"
   ]
  },
  {
   "cell_type": "markdown",
   "metadata": {},
   "source": [
    "Define Checkpoints and Loggers for our models to use"
   ]
  },
  {
   "cell_type": "code",
   "execution_count": 11,
   "metadata": {},
   "outputs": [],
   "source": [
    "best_model_checkpoint = ModelCheckpoint(\n",
    "    monitor=\"val_mse\",\n",
    "    mode=\"min\",\n",
    "    filename=\"best-model-{epoch:02d}-{val_loss:.2f}\",\n",
    "    save_top_k=1,\n",
    ")\n",
    "\n",
    "# Callback to save checkpoints every 5 epochs, regardless of performance\n",
    "periodic_checkpoint = ModelCheckpoint(\n",
    "    filename=\"periodic-{epoch:02d}\",\n",
    "    every_n_epochs=2,\n",
    "    save_top_k=-1,  # Setting -1 saves all checkpoints\n",
    ")\n",
    "\n",
    "# define loggers for the model\n",
    "tb_logger = TensorBoardLogger(\"logs/tensorboard_logs\")\n",
    "csv_logger = CSVLogger(\"logs/csv_logs\")"
   ]
  },
  {
   "cell_type": "markdown",
   "metadata": {},
   "source": [
    "We define a few helper functions to run our experiment. We make helper functions for the data module and the model since they will be mostly the same across experiemnts."
   ]
  },
  {
   "cell_type": "code",
   "execution_count": 13,
   "metadata": {},
   "outputs": [],
   "source": [
    "def get_data_module(max_mean_adjustment, adjustment_function, tf_relationships_dict = {}):\n",
    "    return SyntheticDataLoader(\n",
    "        batch_size=32,\n",
    "        num_genes=4000,\n",
    "        signal_mean=3.0,\n",
    "        signal=[0.5] * 10,\n",
    "        n_sample=[1, 2, 2, 4, 4],  # sum of this is num of tfs\n",
    "        val_size=0.1,\n",
    "        test_size=0.1,\n",
    "        random_state=42,\n",
    "        max_mean_adjustment=max_mean_adjustment,\n",
    "        adjustment_function=adjustment_function,\n",
    "        tf_relationships=tf_relationships_dict,\n",
    "    )\n",
    "\n",
    "def get_model(num_tfs):\n",
    "    return CustomizableModel(\n",
    "        input_dim=num_tfs,\n",
    "        output_dim=num_tfs,\n",
    "        lr=0.01,\n",
    "        hidden_layer_num=2,\n",
    "        hidden_layer_sizes=[64, 32],\n",
    "        activation=\"LeakyReLU\",\n",
    "        optimizer=\"RMSprop\",\n",
    "        L2_regularization_term=0.0,\n",
    "        dropout_rate=0.0,\n",
    "    )"
   ]
  },
  {
   "cell_type": "markdown",
   "metadata": {},
   "source": [
    "Run our experiment for the model trained on data with no mean adjustments (achieved by setting max_mean_adjustment to 0)"
   ]
  },
  {
   "cell_type": "code",
   "execution_count": 4,
   "metadata": {},
   "outputs": [
    {
     "name": "stderr",
     "output_type": "stream",
     "text": [
      "GPU available: False, used: False\n",
      "TPU available: False, using: 0 TPU cores\n",
      "IPU available: False, using: 0 IPUs\n",
      "HPU available: False, using: 0 HPUs\n",
      "/Users/benmueller/2024Classes/BrentResearch/git_repos/yeastdnnexplorer/yeastdnnexplorer/data_loaders/synthetic_data_loader.py:250: UserWarning: To copy construct from a tensor, it is recommended to use sourceTensor.clone().detach() or sourceTensor.clone().detach().requires_grad_(True), rather than torch.tensor(sourceTensor).\n",
      "  X_train, Y_train = torch.tensor(X_train, dtype=torch.float32), torch.tensor(\n",
      "/Users/benmueller/2024Classes/BrentResearch/git_repos/yeastdnnexplorer/yeastdnnexplorer/data_loaders/synthetic_data_loader.py:253: UserWarning: To copy construct from a tensor, it is recommended to use sourceTensor.clone().detach() or sourceTensor.clone().detach().requires_grad_(True), rather than torch.tensor(sourceTensor).\n",
      "  X_val, Y_val = torch.tensor(X_val, dtype=torch.float32), torch.tensor(\n",
      "/Users/benmueller/2024Classes/BrentResearch/git_repos/yeastdnnexplorer/yeastdnnexplorer/data_loaders/synthetic_data_loader.py:256: UserWarning: To copy construct from a tensor, it is recommended to use sourceTensor.clone().detach() or sourceTensor.clone().detach().requires_grad_(True), rather than torch.tensor(sourceTensor).\n",
      "  X_test, Y_test = torch.tensor(X_test, dtype=torch.float32), torch.tensor(\n",
      "\n",
      "  | Name          | Type       | Params\n",
      "---------------------------------------------\n",
      "0 | r2            | R2Score    | 0     \n",
      "1 | activation    | LeakyReLU  | 0     \n",
      "2 | input_layer   | Linear     | 896   \n",
      "3 | hidden_layers | ModuleList | 2.1 K \n",
      "4 | output_layer  | Linear     | 429   \n",
      "5 | dropout       | Dropout    | 0     \n",
      "---------------------------------------------\n",
      "3.4 K     Trainable params\n",
      "0         Non-trainable params\n",
      "3.4 K     Total params\n",
      "0.014     Total estimated model params size (MB)\n"
     ]
    },
    {
     "data": {
      "application/vnd.jupyter.widget-view+json": {
       "model_id": "f770f072ed204f7b857b450a189a4d1a",
       "version_major": 2,
       "version_minor": 0
      },
      "text/plain": [
       "Sanity Checking: |          | 0/? [00:00<?, ?it/s]"
      ]
     },
     "metadata": {},
     "output_type": "display_data"
    },
    {
     "data": {
      "application/vnd.jupyter.widget-view+json": {
       "model_id": "83d7c581864f43fb8718ceab43f908a8",
       "version_major": 2,
       "version_minor": 0
      },
      "text/plain": [
       "Training: |          | 0/? [00:00<?, ?it/s]"
      ]
     },
     "metadata": {},
     "output_type": "display_data"
    },
    {
     "data": {
      "application/vnd.jupyter.widget-view+json": {
       "model_id": "b0c2fb5eacc64e07b7e058c203571abf",
       "version_major": 2,
       "version_minor": 0
      },
      "text/plain": [
       "Validation: |          | 0/? [00:00<?, ?it/s]"
      ]
     },
     "metadata": {},
     "output_type": "display_data"
    },
    {
     "data": {
      "application/vnd.jupyter.widget-view+json": {
       "model_id": "de2de79e690b4d11be65e0918664dcf1",
       "version_major": 2,
       "version_minor": 0
      },
      "text/plain": [
       "Validation: |          | 0/? [00:00<?, ?it/s]"
      ]
     },
     "metadata": {},
     "output_type": "display_data"
    },
    {
     "data": {
      "application/vnd.jupyter.widget-view+json": {
       "model_id": "ebbc0ac202b445c3a7f3345c7262968e",
       "version_major": 2,
       "version_minor": 0
      },
      "text/plain": [
       "Validation: |          | 0/? [00:00<?, ?it/s]"
      ]
     },
     "metadata": {},
     "output_type": "display_data"
    },
    {
     "data": {
      "application/vnd.jupyter.widget-view+json": {
       "model_id": "1f2db5c3eef6450690dae5c874caa582",
       "version_major": 2,
       "version_minor": 0
      },
      "text/plain": [
       "Validation: |          | 0/? [00:00<?, ?it/s]"
      ]
     },
     "metadata": {},
     "output_type": "display_data"
    },
    {
     "data": {
      "application/vnd.jupyter.widget-view+json": {
       "model_id": "fc7c081743d84ef984b1908b5d586994",
       "version_major": 2,
       "version_minor": 0
      },
      "text/plain": [
       "Validation: |          | 0/? [00:00<?, ?it/s]"
      ]
     },
     "metadata": {},
     "output_type": "display_data"
    },
    {
     "data": {
      "application/vnd.jupyter.widget-view+json": {
       "model_id": "dc490d8d069a4dd9bed7498a46bdee5f",
       "version_major": 2,
       "version_minor": 0
      },
      "text/plain": [
       "Validation: |          | 0/? [00:00<?, ?it/s]"
      ]
     },
     "metadata": {},
     "output_type": "display_data"
    },
    {
     "data": {
      "application/vnd.jupyter.widget-view+json": {
       "model_id": "1b905b95395b4b45bcab68a26bece668",
       "version_major": 2,
       "version_minor": 0
      },
      "text/plain": [
       "Validation: |          | 0/? [00:00<?, ?it/s]"
      ]
     },
     "metadata": {},
     "output_type": "display_data"
    },
    {
     "data": {
      "application/vnd.jupyter.widget-view+json": {
       "model_id": "9ad7e0e7dd084bd7a931e6198a31ec70",
       "version_major": 2,
       "version_minor": 0
      },
      "text/plain": [
       "Validation: |          | 0/? [00:00<?, ?it/s]"
      ]
     },
     "metadata": {},
     "output_type": "display_data"
    },
    {
     "data": {
      "application/vnd.jupyter.widget-view+json": {
       "model_id": "38e5002c4e3149d9b9512a7cc74fb551",
       "version_major": 2,
       "version_minor": 0
      },
      "text/plain": [
       "Validation: |          | 0/? [00:00<?, ?it/s]"
      ]
     },
     "metadata": {},
     "output_type": "display_data"
    },
    {
     "data": {
      "application/vnd.jupyter.widget-view+json": {
       "model_id": "32109e202e374be59dda75f1f6a6c67e",
       "version_major": 2,
       "version_minor": 0
      },
      "text/plain": [
       "Validation: |          | 0/? [00:00<?, ?it/s]"
      ]
     },
     "metadata": {},
     "output_type": "display_data"
    },
    {
     "name": "stderr",
     "output_type": "stream",
     "text": [
      "`Trainer.fit` stopped: `max_epochs=10` reached.\n"
     ]
    },
    {
     "data": {
      "application/vnd.jupyter.widget-view+json": {
       "model_id": "117e37baa0164b5fbd998b9ea72facb1",
       "version_major": 2,
       "version_minor": 0
      },
      "text/plain": [
       "Testing: |          | 0/? [00:00<?, ?it/s]"
      ]
     },
     "metadata": {},
     "output_type": "display_data"
    },
    {
     "name": "stdout",
     "output_type": "stream",
     "text": [
      "────────────────────────────────────────────────────────────────────────────────────────────────────────────────────────\n",
      "       Test metric             DataLoader 0\n",
      "────────────────────────────────────────────────────────────────────────────────────────────────────────────────────────\n",
      "        test_mse            1.5734728574752808\n",
      "       test_nrmse           0.22200515866279602\n",
      "────────────────────────────────────────────────────────────────────────────────────────────────────────────────────────\n",
      "Printing test results...\n",
      "[{'test_mse': 1.5734728574752808, 'test_nrmse': 0.22200515866279602}]\n",
      "Printing model summary...\n",
      "----------------------------------------------------------------\n",
      "        Layer (type)               Output Shape         Param #\n",
      "================================================================\n",
      "            Linear-1               [-1, 13, 64]             896\n",
      "         LeakyReLU-2               [-1, 13, 64]               0\n",
      "           Dropout-3               [-1, 13, 64]               0\n",
      "            Linear-4               [-1, 13, 32]           2,080\n",
      "         LeakyReLU-5               [-1, 13, 32]               0\n",
      "           Dropout-6               [-1, 13, 32]               0\n",
      "            Linear-7               [-1, 13, 13]             429\n",
      "================================================================\n",
      "Total params: 3,405\n",
      "Trainable params: 3,405\n",
      "Non-trainable params: 0\n",
      "----------------------------------------------------------------\n",
      "Input size (MB): 0.00\n",
      "Forward/backward pass size (MB): 0.03\n",
      "Params size (MB): 0.01\n",
      "Estimated Total Size (MB): 0.04\n",
      "----------------------------------------------------------------\n"
     ]
    }
   ],
   "source": [
    "# define dictionary of relations between TFs\n",
    "data_module = get_data_module(0.0, None, None)\n",
    "num_tfs = sum(data_module.n_sample)  # sum of all n_sample is the number of TFs\n",
    "model = get_model(num_tfs)\n",
    "\n",
    "trainer = Trainer(\n",
    "    max_epochs=10,\n",
    "    deterministic=True,\n",
    "    accelerator=\"cpu\",\n",
    "    callbacks=[best_model_checkpoint, periodic_checkpoint],\n",
    "    logger=[tb_logger, csv_logger],\n",
    ")\n",
    "\n",
    "trainer.fit(model, data_module)\n",
    "\n",
    "test_results = trainer.test(model, datamodule=data_module)\n",
    "print(\"Printing test results...\")\n",
    "print(test_results)  # this prints all metrics that were logged during the test phase\n",
    "\n",
    "# print summary of model\n",
    "print(\"Printing model summary...\")\n",
    "summary(model, (num_tfs, num_tfs))"
   ]
  },
  {
   "cell_type": "markdown",
   "metadata": {},
   "source": [
    "Run our experiment for the model trained on data with the default mean adjustments"
   ]
  },
  {
   "cell_type": "code",
   "execution_count": 5,
   "metadata": {},
   "outputs": [
    {
     "name": "stderr",
     "output_type": "stream",
     "text": [
      "GPU available: False, used: False\n"
     ]
    },
    {
     "name": "stderr",
     "output_type": "stream",
     "text": [
      "TPU available: False, using: 0 TPU cores\n",
      "IPU available: False, using: 0 IPUs\n",
      "HPU available: False, using: 0 HPUs\n",
      "/Users/benmueller/2024Classes/BrentResearch/git_repos/yeastdnnexplorer/.venv/lib/python3.11/site-packages/pytorch_lightning/callbacks/model_checkpoint.py:653: Checkpoint directory logs/tensorboard_logs/lightning_logs/version_85/checkpoints exists and is not empty.\n",
      "\n",
      "  | Name          | Type       | Params\n",
      "---------------------------------------------\n",
      "0 | r2            | R2Score    | 0     \n",
      "1 | activation    | LeakyReLU  | 0     \n",
      "2 | input_layer   | Linear     | 896   \n",
      "3 | hidden_layers | ModuleList | 2.1 K \n",
      "4 | output_layer  | Linear     | 429   \n",
      "5 | dropout       | Dropout    | 0     \n",
      "---------------------------------------------\n",
      "3.4 K     Trainable params\n",
      "0         Non-trainable params\n",
      "3.4 K     Total params\n",
      "0.014     Total estimated model params size (MB)\n"
     ]
    },
    {
     "data": {
      "application/vnd.jupyter.widget-view+json": {
       "model_id": "671486d6478a4ed4a11bd6cd84c1ea0f",
       "version_major": 2,
       "version_minor": 0
      },
      "text/plain": [
       "Sanity Checking: |          | 0/? [00:00<?, ?it/s]"
      ]
     },
     "metadata": {},
     "output_type": "display_data"
    },
    {
     "data": {
      "application/vnd.jupyter.widget-view+json": {
       "model_id": "e3e71c5f78584c558c83b10cc30943e9",
       "version_major": 2,
       "version_minor": 0
      },
      "text/plain": [
       "Training: |          | 0/? [00:00<?, ?it/s]"
      ]
     },
     "metadata": {},
     "output_type": "display_data"
    },
    {
     "data": {
      "application/vnd.jupyter.widget-view+json": {
       "model_id": "ebea90239c0b4fbbb2ff2a1e762157b7",
       "version_major": 2,
       "version_minor": 0
      },
      "text/plain": [
       "Validation: |          | 0/? [00:00<?, ?it/s]"
      ]
     },
     "metadata": {},
     "output_type": "display_data"
    },
    {
     "data": {
      "application/vnd.jupyter.widget-view+json": {
       "model_id": "52fc83308ae649799d6913d8b26d1c37",
       "version_major": 2,
       "version_minor": 0
      },
      "text/plain": [
       "Validation: |          | 0/? [00:00<?, ?it/s]"
      ]
     },
     "metadata": {},
     "output_type": "display_data"
    },
    {
     "data": {
      "application/vnd.jupyter.widget-view+json": {
       "model_id": "548525665af24e309b4d2a14b9d1fc5b",
       "version_major": 2,
       "version_minor": 0
      },
      "text/plain": [
       "Validation: |          | 0/? [00:00<?, ?it/s]"
      ]
     },
     "metadata": {},
     "output_type": "display_data"
    },
    {
     "data": {
      "application/vnd.jupyter.widget-view+json": {
       "model_id": "98d1c6e804ea40cf939b730b9a01b324",
       "version_major": 2,
       "version_minor": 0
      },
      "text/plain": [
       "Validation: |          | 0/? [00:00<?, ?it/s]"
      ]
     },
     "metadata": {},
     "output_type": "display_data"
    },
    {
     "data": {
      "application/vnd.jupyter.widget-view+json": {
       "model_id": "587f099c20934a51ad50db142c795f9d",
       "version_major": 2,
       "version_minor": 0
      },
      "text/plain": [
       "Validation: |          | 0/? [00:00<?, ?it/s]"
      ]
     },
     "metadata": {},
     "output_type": "display_data"
    },
    {
     "data": {
      "application/vnd.jupyter.widget-view+json": {
       "model_id": "eea353cdee0e46acb715ef42451e16b4",
       "version_major": 2,
       "version_minor": 0
      },
      "text/plain": [
       "Validation: |          | 0/? [00:00<?, ?it/s]"
      ]
     },
     "metadata": {},
     "output_type": "display_data"
    },
    {
     "data": {
      "application/vnd.jupyter.widget-view+json": {
       "model_id": "21578d51c15b430c8bf1c07688ba1f62",
       "version_major": 2,
       "version_minor": 0
      },
      "text/plain": [
       "Validation: |          | 0/? [00:00<?, ?it/s]"
      ]
     },
     "metadata": {},
     "output_type": "display_data"
    },
    {
     "data": {
      "application/vnd.jupyter.widget-view+json": {
       "model_id": "01256acf94f943e08c6b730654ea93bb",
       "version_major": 2,
       "version_minor": 0
      },
      "text/plain": [
       "Validation: |          | 0/? [00:00<?, ?it/s]"
      ]
     },
     "metadata": {},
     "output_type": "display_data"
    },
    {
     "data": {
      "application/vnd.jupyter.widget-view+json": {
       "model_id": "37aaf91090fd49cd95abb2c65c72062e",
       "version_major": 2,
       "version_minor": 0
      },
      "text/plain": [
       "Validation: |          | 0/? [00:00<?, ?it/s]"
      ]
     },
     "metadata": {},
     "output_type": "display_data"
    },
    {
     "data": {
      "application/vnd.jupyter.widget-view+json": {
       "model_id": "2be73261dc494c738538af6ced1e6db9",
       "version_major": 2,
       "version_minor": 0
      },
      "text/plain": [
       "Validation: |          | 0/? [00:00<?, ?it/s]"
      ]
     },
     "metadata": {},
     "output_type": "display_data"
    },
    {
     "name": "stderr",
     "output_type": "stream",
     "text": [
      "`Trainer.fit` stopped: `max_epochs=10` reached.\n"
     ]
    },
    {
     "data": {
      "application/vnd.jupyter.widget-view+json": {
       "model_id": "fa39090c370d48ada69ffc86255f22b4",
       "version_major": 2,
       "version_minor": 0
      },
      "text/plain": [
       "Testing: |          | 0/? [00:00<?, ?it/s]"
      ]
     },
     "metadata": {},
     "output_type": "display_data"
    },
    {
     "name": "stdout",
     "output_type": "stream",
     "text": [
      "────────────────────────────────────────────────────────────────────────────────────────────────────────────────────────\n",
      "       Test metric             DataLoader 0\n",
      "────────────────────────────────────────────────────────────────────────────────────────────────────────────────────────\n",
      "        test_mse            2.1843292713165283\n",
      "       test_nrmse           0.21009229123592377\n",
      "────────────────────────────────────────────────────────────────────────────────────────────────────────────────────────\n",
      "Printing test results...\n",
      "[{'test_mse': 2.1843292713165283, 'test_nrmse': 0.21009229123592377}]\n",
      "Printing model summary...\n",
      "----------------------------------------------------------------\n",
      "        Layer (type)               Output Shape         Param #\n",
      "================================================================\n",
      "            Linear-1               [-1, 13, 64]             896\n",
      "         LeakyReLU-2               [-1, 13, 64]               0\n",
      "           Dropout-3               [-1, 13, 64]               0\n",
      "            Linear-4               [-1, 13, 32]           2,080\n",
      "         LeakyReLU-5               [-1, 13, 32]               0\n",
      "           Dropout-6               [-1, 13, 32]               0\n",
      "            Linear-7               [-1, 13, 13]             429\n",
      "================================================================\n",
      "Total params: 3,405\n",
      "Trainable params: 3,405\n",
      "Non-trainable params: 0\n",
      "----------------------------------------------------------------\n",
      "Input size (MB): 0.00\n",
      "Forward/backward pass size (MB): 0.03\n",
      "Params size (MB): 0.01\n",
      "Estimated Total Size (MB): 0.04\n",
      "----------------------------------------------------------------\n"
     ]
    }
   ],
   "source": [
    "# define dictionary of relations between TFs\n",
    "data_module = get_data_module(3.0, None, None)\n",
    "num_tfs = sum(data_module.n_sample)  # sum of all n_sample is the number of TFs\n",
    "model = get_model(num_tfs)\n",
    "\n",
    "trainer = Trainer(\n",
    "    max_epochs=10,\n",
    "    deterministic=True,\n",
    "    accelerator=\"cpu\",\n",
    "    callbacks=[best_model_checkpoint, periodic_checkpoint],\n",
    "    logger=[tb_logger, csv_logger],\n",
    ")\n",
    "\n",
    "trainer.fit(model, data_module)\n",
    "\n",
    "test_results = trainer.test(model, datamodule=data_module)\n",
    "print(\"Printing test results...\")\n",
    "print(test_results)  # this prints all metrics that were logged during the test phase\n",
    "\n",
    "# print summary of model\n",
    "print(\"Printing model summary...\")\n",
    "summary(model, (num_tfs, num_tfs))"
   ]
  },
  {
   "cell_type": "markdown",
   "metadata": {},
   "source": [
    "Run our experiment for the model with the integer relations (only unary relations, no binary / boolean logic)"
   ]
  },
  {
   "cell_type": "code",
   "execution_count": 6,
   "metadata": {},
   "outputs": [
    {
     "name": "stderr",
     "output_type": "stream",
     "text": [
      "GPU available: False, used: False\n",
      "TPU available: False, using: 0 TPU cores\n",
      "IPU available: False, using: 0 IPUs\n",
      "HPU available: False, using: 0 HPUs\n"
     ]
    },
    {
     "name": "stderr",
     "output_type": "stream",
     "text": [
      "\n",
      "  | Name          | Type       | Params\n",
      "---------------------------------------------\n",
      "0 | r2            | R2Score    | 0     \n",
      "1 | activation    | LeakyReLU  | 0     \n",
      "2 | input_layer   | Linear     | 896   \n",
      "3 | hidden_layers | ModuleList | 2.1 K \n",
      "4 | output_layer  | Linear     | 429   \n",
      "5 | dropout       | Dropout    | 0     \n",
      "---------------------------------------------\n",
      "3.4 K     Trainable params\n",
      "0         Non-trainable params\n",
      "3.4 K     Total params\n",
      "0.014     Total estimated model params size (MB)\n"
     ]
    },
    {
     "data": {
      "application/vnd.jupyter.widget-view+json": {
       "model_id": "6c4cd925b4944ef8a2d30893e8a25804",
       "version_major": 2,
       "version_minor": 0
      },
      "text/plain": [
       "Sanity Checking: |          | 0/? [00:00<?, ?it/s]"
      ]
     },
     "metadata": {},
     "output_type": "display_data"
    },
    {
     "data": {
      "application/vnd.jupyter.widget-view+json": {
       "model_id": "3d9a17dc6cd340f3b2e144453c501775",
       "version_major": 2,
       "version_minor": 0
      },
      "text/plain": [
       "Training: |          | 0/? [00:00<?, ?it/s]"
      ]
     },
     "metadata": {},
     "output_type": "display_data"
    },
    {
     "data": {
      "application/vnd.jupyter.widget-view+json": {
       "model_id": "74bee52a54bf41a088ab4eb9e271fd53",
       "version_major": 2,
       "version_minor": 0
      },
      "text/plain": [
       "Validation: |          | 0/? [00:00<?, ?it/s]"
      ]
     },
     "metadata": {},
     "output_type": "display_data"
    },
    {
     "data": {
      "application/vnd.jupyter.widget-view+json": {
       "model_id": "da7649d05b714b2393e874637fac734d",
       "version_major": 2,
       "version_minor": 0
      },
      "text/plain": [
       "Validation: |          | 0/? [00:00<?, ?it/s]"
      ]
     },
     "metadata": {},
     "output_type": "display_data"
    },
    {
     "data": {
      "application/vnd.jupyter.widget-view+json": {
       "model_id": "0ee0f5f96f444d6cbef83e2445211a1a",
       "version_major": 2,
       "version_minor": 0
      },
      "text/plain": [
       "Validation: |          | 0/? [00:00<?, ?it/s]"
      ]
     },
     "metadata": {},
     "output_type": "display_data"
    },
    {
     "data": {
      "application/vnd.jupyter.widget-view+json": {
       "model_id": "7d5e3b28531745b58815f815612db41b",
       "version_major": 2,
       "version_minor": 0
      },
      "text/plain": [
       "Validation: |          | 0/? [00:00<?, ?it/s]"
      ]
     },
     "metadata": {},
     "output_type": "display_data"
    },
    {
     "data": {
      "application/vnd.jupyter.widget-view+json": {
       "model_id": "d1d40add5dcc4cd1834b0552218d45f8",
       "version_major": 2,
       "version_minor": 0
      },
      "text/plain": [
       "Validation: |          | 0/? [00:00<?, ?it/s]"
      ]
     },
     "metadata": {},
     "output_type": "display_data"
    },
    {
     "data": {
      "application/vnd.jupyter.widget-view+json": {
       "model_id": "76fbf5cf98b648dda904b3000f8874e7",
       "version_major": 2,
       "version_minor": 0
      },
      "text/plain": [
       "Validation: |          | 0/? [00:00<?, ?it/s]"
      ]
     },
     "metadata": {},
     "output_type": "display_data"
    },
    {
     "data": {
      "application/vnd.jupyter.widget-view+json": {
       "model_id": "2652b5b789124987936e7a3c16b57290",
       "version_major": 2,
       "version_minor": 0
      },
      "text/plain": [
       "Validation: |          | 0/? [00:00<?, ?it/s]"
      ]
     },
     "metadata": {},
     "output_type": "display_data"
    },
    {
     "data": {
      "application/vnd.jupyter.widget-view+json": {
       "model_id": "30254bf8e4f74465b9ce2c9ba83e41de",
       "version_major": 2,
       "version_minor": 0
      },
      "text/plain": [
       "Validation: |          | 0/? [00:00<?, ?it/s]"
      ]
     },
     "metadata": {},
     "output_type": "display_data"
    },
    {
     "data": {
      "application/vnd.jupyter.widget-view+json": {
       "model_id": "0589f1b4f5924163b8448aa6af47dd68",
       "version_major": 2,
       "version_minor": 0
      },
      "text/plain": [
       "Validation: |          | 0/? [00:00<?, ?it/s]"
      ]
     },
     "metadata": {},
     "output_type": "display_data"
    },
    {
     "data": {
      "application/vnd.jupyter.widget-view+json": {
       "model_id": "47f27e1a7c56475fb888f38409180307",
       "version_major": 2,
       "version_minor": 0
      },
      "text/plain": [
       "Validation: |          | 0/? [00:00<?, ?it/s]"
      ]
     },
     "metadata": {},
     "output_type": "display_data"
    },
    {
     "name": "stderr",
     "output_type": "stream",
     "text": [
      "`Trainer.fit` stopped: `max_epochs=10` reached.\n"
     ]
    },
    {
     "data": {
      "application/vnd.jupyter.widget-view+json": {
       "model_id": "42b50850c19d40f5a49eec5b716575a0",
       "version_major": 2,
       "version_minor": 0
      },
      "text/plain": [
       "Testing: |          | 0/? [00:00<?, ?it/s]"
      ]
     },
     "metadata": {},
     "output_type": "display_data"
    },
    {
     "name": "stdout",
     "output_type": "stream",
     "text": [
      "────────────────────────────────────────────────────────────────────────────────────────────────────────────────────────\n",
      "       Test metric             DataLoader 0\n",
      "────────────────────────────────────────────────────────────────────────────────────────────────────────────────────────\n",
      "        test_mse            1.7407374382019043\n",
      "       test_nrmse           0.2069530338048935\n",
      "────────────────────────────────────────────────────────────────────────────────────────────────────────────────────────\n",
      "Printing test results...\n",
      "[{'test_mse': 1.7407374382019043, 'test_nrmse': 0.2069530338048935}]\n",
      "Printing model summary...\n",
      "----------------------------------------------------------------\n",
      "        Layer (type)               Output Shape         Param #\n",
      "================================================================\n",
      "            Linear-1               [-1, 13, 64]             896\n",
      "         LeakyReLU-2               [-1, 13, 64]               0\n",
      "           Dropout-3               [-1, 13, 64]               0\n",
      "            Linear-4               [-1, 13, 32]           2,080\n",
      "         LeakyReLU-5               [-1, 13, 32]               0\n",
      "           Dropout-6               [-1, 13, 32]               0\n",
      "            Linear-7               [-1, 13, 13]             429\n",
      "================================================================\n",
      "Total params: 3,405\n",
      "Trainable params: 3,405\n",
      "Non-trainable params: 0\n",
      "----------------------------------------------------------------\n",
      "Input size (MB): 0.00\n",
      "Forward/backward pass size (MB): 0.03\n",
      "Params size (MB): 0.01\n",
      "Estimated Total Size (MB): 0.04\n",
      "----------------------------------------------------------------\n"
     ]
    }
   ],
   "source": [
    "# define dictionary of relations between TFs\n",
    "tf_relationships_dict = {\n",
    "    0: [2, 4, 7],\n",
    "    1: [8],\n",
    "    2: [3, 9],\n",
    "    3: [1, 6],\n",
    "    4: [5],\n",
    "    5: [0, 2, 8],\n",
    "    6: [4],\n",
    "    7: [1, 4],\n",
    "    8: [6],\n",
    "    9: [0, 3, 8],\n",
    "}\n",
    "\n",
    "data_module = get_data_module(\n",
    "    3.0, \n",
    "    perturbation_effect_adjustment_function_with_tf_relationships, \n",
    "    tf_relationships_dict\n",
    ")\n",
    "num_tfs = sum(data_module.n_sample)  # sum of all n_sample is the number of TFs\n",
    "model = get_model(num_tfs)\n",
    "\n",
    "trainer = Trainer(\n",
    "    max_epochs=10,\n",
    "    deterministic=True,\n",
    "    accelerator=\"cpu\",\n",
    "    callbacks=[best_model_checkpoint, periodic_checkpoint],\n",
    "    logger=[tb_logger, csv_logger],\n",
    ")\n",
    "\n",
    "trainer.fit(model, data_module)\n",
    "\n",
    "test_results = trainer.test(model, datamodule=data_module)\n",
    "print(\"Printing test results...\")\n",
    "print(test_results)  # this prints all metrics that were logged during the test phase\n",
    "\n",
    "# print summary of model\n",
    "print(\"Printing model summary...\")\n",
    "summary(model, (num_tfs, num_tfs))"
   ]
  },
  {
   "cell_type": "markdown",
   "metadata": {},
   "source": [
    "Run our experiment for the model with the boolean relations:"
   ]
  },
  {
   "cell_type": "code",
   "execution_count": 7,
   "metadata": {},
   "outputs": [
    {
     "name": "stderr",
     "output_type": "stream",
     "text": [
      "GPU available: False, used: False\n",
      "TPU available: False, using: 0 TPU cores\n",
      "IPU available: False, using: 0 IPUs\n",
      "HPU available: False, using: 0 HPUs\n"
     ]
    },
    {
     "name": "stderr",
     "output_type": "stream",
     "text": [
      "\n",
      "  | Name          | Type       | Params\n",
      "---------------------------------------------\n",
      "0 | r2            | R2Score    | 0     \n",
      "1 | activation    | LeakyReLU  | 0     \n",
      "2 | input_layer   | Linear     | 896   \n",
      "3 | hidden_layers | ModuleList | 2.1 K \n",
      "4 | output_layer  | Linear     | 429   \n",
      "5 | dropout       | Dropout    | 0     \n",
      "---------------------------------------------\n",
      "3.4 K     Trainable params\n",
      "0         Non-trainable params\n",
      "3.4 K     Total params\n",
      "0.014     Total estimated model params size (MB)\n"
     ]
    },
    {
     "data": {
      "application/vnd.jupyter.widget-view+json": {
       "model_id": "0ab491628e974ebdb1514c46dcbcded8",
       "version_major": 2,
       "version_minor": 0
      },
      "text/plain": [
       "Sanity Checking: |          | 0/? [00:00<?, ?it/s]"
      ]
     },
     "metadata": {},
     "output_type": "display_data"
    },
    {
     "data": {
      "application/vnd.jupyter.widget-view+json": {
       "model_id": "7fc4985a6f5242b2b7bb8d105818f2dd",
       "version_major": 2,
       "version_minor": 0
      },
      "text/plain": [
       "Training: |          | 0/? [00:00<?, ?it/s]"
      ]
     },
     "metadata": {},
     "output_type": "display_data"
    },
    {
     "data": {
      "application/vnd.jupyter.widget-view+json": {
       "model_id": "2375e91e212340f3aee231b34d3c3ab0",
       "version_major": 2,
       "version_minor": 0
      },
      "text/plain": [
       "Validation: |          | 0/? [00:00<?, ?it/s]"
      ]
     },
     "metadata": {},
     "output_type": "display_data"
    },
    {
     "data": {
      "application/vnd.jupyter.widget-view+json": {
       "model_id": "02aeff1711fb4f08b11e6dd4d17ba251",
       "version_major": 2,
       "version_minor": 0
      },
      "text/plain": [
       "Validation: |          | 0/? [00:00<?, ?it/s]"
      ]
     },
     "metadata": {},
     "output_type": "display_data"
    },
    {
     "data": {
      "application/vnd.jupyter.widget-view+json": {
       "model_id": "fd872f2762764d78bfbf4e8cf71b92b9",
       "version_major": 2,
       "version_minor": 0
      },
      "text/plain": [
       "Validation: |          | 0/? [00:00<?, ?it/s]"
      ]
     },
     "metadata": {},
     "output_type": "display_data"
    },
    {
     "data": {
      "application/vnd.jupyter.widget-view+json": {
       "model_id": "b6bc8d5a4b454978849bf9fe13f6a0e5",
       "version_major": 2,
       "version_minor": 0
      },
      "text/plain": [
       "Validation: |          | 0/? [00:00<?, ?it/s]"
      ]
     },
     "metadata": {},
     "output_type": "display_data"
    },
    {
     "data": {
      "application/vnd.jupyter.widget-view+json": {
       "model_id": "1f9b760f3cbd4040869c953c2583918e",
       "version_major": 2,
       "version_minor": 0
      },
      "text/plain": [
       "Validation: |          | 0/? [00:00<?, ?it/s]"
      ]
     },
     "metadata": {},
     "output_type": "display_data"
    },
    {
     "data": {
      "application/vnd.jupyter.widget-view+json": {
       "model_id": "62b63010796e4d79942415f8eb844e3c",
       "version_major": 2,
       "version_minor": 0
      },
      "text/plain": [
       "Validation: |          | 0/? [00:00<?, ?it/s]"
      ]
     },
     "metadata": {},
     "output_type": "display_data"
    },
    {
     "data": {
      "application/vnd.jupyter.widget-view+json": {
       "model_id": "98a91266d8da4b08a30b621ee921e007",
       "version_major": 2,
       "version_minor": 0
      },
      "text/plain": [
       "Validation: |          | 0/? [00:00<?, ?it/s]"
      ]
     },
     "metadata": {},
     "output_type": "display_data"
    },
    {
     "data": {
      "application/vnd.jupyter.widget-view+json": {
       "model_id": "b2a9772cc2934cffbdc83e806baf3650",
       "version_major": 2,
       "version_minor": 0
      },
      "text/plain": [
       "Validation: |          | 0/? [00:00<?, ?it/s]"
      ]
     },
     "metadata": {},
     "output_type": "display_data"
    },
    {
     "data": {
      "application/vnd.jupyter.widget-view+json": {
       "model_id": "e802aa9c972340c1aeb3d0fce6c98c2b",
       "version_major": 2,
       "version_minor": 0
      },
      "text/plain": [
       "Validation: |          | 0/? [00:00<?, ?it/s]"
      ]
     },
     "metadata": {},
     "output_type": "display_data"
    },
    {
     "data": {
      "application/vnd.jupyter.widget-view+json": {
       "model_id": "0f7001698b384ed0b3950cc5a01025d3",
       "version_major": 2,
       "version_minor": 0
      },
      "text/plain": [
       "Validation: |          | 0/? [00:00<?, ?it/s]"
      ]
     },
     "metadata": {},
     "output_type": "display_data"
    },
    {
     "name": "stderr",
     "output_type": "stream",
     "text": [
      "`Trainer.fit` stopped: `max_epochs=10` reached.\n"
     ]
    },
    {
     "data": {
      "application/vnd.jupyter.widget-view+json": {
       "model_id": "16f95e3d68e1407a829c586647427183",
       "version_major": 2,
       "version_minor": 0
      },
      "text/plain": [
       "Testing: |          | 0/? [00:00<?, ?it/s]"
      ]
     },
     "metadata": {},
     "output_type": "display_data"
    },
    {
     "name": "stdout",
     "output_type": "stream",
     "text": [
      "────────────────────────────────────────────────────────────────────────────────────────────────────────────────────────\n",
      "       Test metric             DataLoader 0\n",
      "────────────────────────────────────────────────────────────────────────────────────────────────────────────────────────\n",
      "        test_mse             1.715409755706787\n",
      "       test_nrmse           0.20101304352283478\n",
      "────────────────────────────────────────────────────────────────────────────────────────────────────────────────────────\n",
      "Printing test results...\n",
      "[{'test_mse': 1.715409755706787, 'test_nrmse': 0.20101304352283478}]\n",
      "Printing model summary...\n",
      "----------------------------------------------------------------\n",
      "        Layer (type)               Output Shape         Param #\n",
      "================================================================\n",
      "            Linear-1               [-1, 13, 64]             896\n",
      "         LeakyReLU-2               [-1, 13, 64]               0\n",
      "           Dropout-3               [-1, 13, 64]               0\n",
      "            Linear-4               [-1, 13, 32]           2,080\n",
      "         LeakyReLU-5               [-1, 13, 32]               0\n",
      "           Dropout-6               [-1, 13, 32]               0\n",
      "            Linear-7               [-1, 13, 13]             429\n",
      "================================================================\n",
      "Total params: 3,405\n",
      "Trainable params: 3,405\n",
      "Non-trainable params: 0\n",
      "----------------------------------------------------------------\n",
      "Input size (MB): 0.00\n",
      "Forward/backward pass size (MB): 0.03\n",
      "Params size (MB): 0.01\n",
      "Estimated Total Size (MB): 0.04\n",
      "----------------------------------------------------------------\n"
     ]
    }
   ],
   "source": [
    "\n",
    "# NOTE that we can pass in the same number twice to a relation to make it a unary relation\n",
    "# you can also pass as many arguments as you want to a relation to make it a n-ary relation\n",
    "tf_relationships_dict_boolean_logic = {\n",
    "    0: [And(3, 4, 8), Or(3, 7), Or(1, 1)],\n",
    "    1: [And(5, Or(7, 8))],\n",
    "    2: [],\n",
    "    3: [Or(7, 9)],\n",
    "    4: [And(1, 2)],\n",
    "    5: [Or(1, 2)],\n",
    "    6: [And(4, Or(9, 7))],\n",
    "    7: [Or(5, And(2, 3))],\n",
    "    8: [And(6, 4)],\n",
    "    9: [],\n",
    "}\n",
    "\n",
    "data_module = get_data_module(\n",
    "    3.0, \n",
    "    perturbation_effect_adjustment_function_with_tf_relationships_boolean_logic, \n",
    "    tf_relationships_dict_boolean_logic\n",
    ")\n",
    "num_tfs = sum(data_module.n_sample)  # sum of all n_sample is the number of TFs\n",
    "model = get_model(num_tfs)\n",
    "\n",
    "trainer = Trainer(\n",
    "    max_epochs=10,\n",
    "    deterministic=True,\n",
    "    accelerator=\"cpu\",\n",
    "    callbacks=[best_model_checkpoint, periodic_checkpoint],\n",
    "    logger=[tb_logger, csv_logger],\n",
    ")\n",
    "\n",
    "trainer.fit(model, data_module)\n",
    "\n",
    "test_results = trainer.test(model, datamodule=data_module)\n",
    "print(\"Printing test results...\")\n",
    "print(test_results)  # this prints all metrics that were logged during the test phase\n",
    "\n",
    "# print summary of model\n",
    "print(\"Printing model summary...\")\n",
    "summary(model, (num_tfs, num_tfs))"
   ]
  },
  {
   "cell_type": "markdown",
   "metadata": {},
   "source": [
    "We would also like to run the same experiments for the simple linear model to have a benchmark / baseline to compare to"
   ]
  },
  {
   "cell_type": "code",
   "execution_count": 15,
   "metadata": {},
   "outputs": [
    {
     "name": "stderr",
     "output_type": "stream",
     "text": [
      "GPU available: False, used: False\n",
      "TPU available: False, using: 0 TPU cores\n",
      "IPU available: False, using: 0 IPUs\n",
      "HPU available: False, using: 0 HPUs\n"
     ]
    },
    {
     "name": "stderr",
     "output_type": "stream",
     "text": [
      "/Users/benmueller/2024Classes/BrentResearch/git_repos/yeastdnnexplorer/yeastdnnexplorer/data_loaders/synthetic_data_loader.py:250: UserWarning: To copy construct from a tensor, it is recommended to use sourceTensor.clone().detach() or sourceTensor.clone().detach().requires_grad_(True), rather than torch.tensor(sourceTensor).\n",
      "  X_train, Y_train = torch.tensor(X_train, dtype=torch.float32), torch.tensor(\n",
      "/Users/benmueller/2024Classes/BrentResearch/git_repos/yeastdnnexplorer/yeastdnnexplorer/data_loaders/synthetic_data_loader.py:253: UserWarning: To copy construct from a tensor, it is recommended to use sourceTensor.clone().detach() or sourceTensor.clone().detach().requires_grad_(True), rather than torch.tensor(sourceTensor).\n",
      "  X_val, Y_val = torch.tensor(X_val, dtype=torch.float32), torch.tensor(\n",
      "/Users/benmueller/2024Classes/BrentResearch/git_repos/yeastdnnexplorer/yeastdnnexplorer/data_loaders/synthetic_data_loader.py:256: UserWarning: To copy construct from a tensor, it is recommended to use sourceTensor.clone().detach() or sourceTensor.clone().detach().requires_grad_(True), rather than torch.tensor(sourceTensor).\n",
      "  X_test, Y_test = torch.tensor(X_test, dtype=torch.float32), torch.tensor(\n",
      "\n",
      "  | Name    | Type                        | Params\n",
      "--------------------------------------------------------\n",
      "0 | mape    | MeanAbsolutePercentageError | 0     \n",
      "1 | r2      | R2Score                     | 0     \n",
      "2 | linear1 | Linear                      | 182   \n",
      "--------------------------------------------------------\n",
      "182       Trainable params\n",
      "0         Non-trainable params\n",
      "182       Total params\n",
      "0.001     Total estimated model params size (MB)\n"
     ]
    },
    {
     "data": {
      "application/vnd.jupyter.widget-view+json": {
       "model_id": "5a54225a488a4df198ad24541f3896fe",
       "version_major": 2,
       "version_minor": 0
      },
      "text/plain": [
       "Sanity Checking: |          | 0/? [00:00<?, ?it/s]"
      ]
     },
     "metadata": {},
     "output_type": "display_data"
    },
    {
     "data": {
      "application/vnd.jupyter.widget-view+json": {
       "model_id": "4ae3c7f1254f441a8a734b892af9a14c",
       "version_major": 2,
       "version_minor": 0
      },
      "text/plain": [
       "Training: |          | 0/? [00:00<?, ?it/s]"
      ]
     },
     "metadata": {},
     "output_type": "display_data"
    },
    {
     "data": {
      "application/vnd.jupyter.widget-view+json": {
       "model_id": "028fe298a9864e369d222b5fc9135f34",
       "version_major": 2,
       "version_minor": 0
      },
      "text/plain": [
       "Validation: |          | 0/? [00:00<?, ?it/s]"
      ]
     },
     "metadata": {},
     "output_type": "display_data"
    },
    {
     "data": {
      "application/vnd.jupyter.widget-view+json": {
       "model_id": "4134b7d91ecc4de3a754e1a0e507e4a0",
       "version_major": 2,
       "version_minor": 0
      },
      "text/plain": [
       "Validation: |          | 0/? [00:00<?, ?it/s]"
      ]
     },
     "metadata": {},
     "output_type": "display_data"
    },
    {
     "data": {
      "application/vnd.jupyter.widget-view+json": {
       "model_id": "c11f71bbd48e45a2917ab36eba1a99aa",
       "version_major": 2,
       "version_minor": 0
      },
      "text/plain": [
       "Validation: |          | 0/? [00:00<?, ?it/s]"
      ]
     },
     "metadata": {},
     "output_type": "display_data"
    },
    {
     "data": {
      "application/vnd.jupyter.widget-view+json": {
       "model_id": "6e94e80c6f794634a9d6829f0c5ef8bb",
       "version_major": 2,
       "version_minor": 0
      },
      "text/plain": [
       "Validation: |          | 0/? [00:00<?, ?it/s]"
      ]
     },
     "metadata": {},
     "output_type": "display_data"
    },
    {
     "data": {
      "application/vnd.jupyter.widget-view+json": {
       "model_id": "e14601b354144756af27f4d48bbfef40",
       "version_major": 2,
       "version_minor": 0
      },
      "text/plain": [
       "Validation: |          | 0/? [00:00<?, ?it/s]"
      ]
     },
     "metadata": {},
     "output_type": "display_data"
    },
    {
     "data": {
      "application/vnd.jupyter.widget-view+json": {
       "model_id": "579e5db3b7f047bfa4d4dfe19a87b28c",
       "version_major": 2,
       "version_minor": 0
      },
      "text/plain": [
       "Validation: |          | 0/? [00:00<?, ?it/s]"
      ]
     },
     "metadata": {},
     "output_type": "display_data"
    },
    {
     "data": {
      "application/vnd.jupyter.widget-view+json": {
       "model_id": "0263372362ba420e9a819cca2234f4b1",
       "version_major": 2,
       "version_minor": 0
      },
      "text/plain": [
       "Validation: |          | 0/? [00:00<?, ?it/s]"
      ]
     },
     "metadata": {},
     "output_type": "display_data"
    },
    {
     "data": {
      "application/vnd.jupyter.widget-view+json": {
       "model_id": "bbc2d981a7b94d33bbfe6835f8066ef0",
       "version_major": 2,
       "version_minor": 0
      },
      "text/plain": [
       "Validation: |          | 0/? [00:00<?, ?it/s]"
      ]
     },
     "metadata": {},
     "output_type": "display_data"
    },
    {
     "data": {
      "application/vnd.jupyter.widget-view+json": {
       "model_id": "e8da5beccc964e249412028c112cce2d",
       "version_major": 2,
       "version_minor": 0
      },
      "text/plain": [
       "Validation: |          | 0/? [00:00<?, ?it/s]"
      ]
     },
     "metadata": {},
     "output_type": "display_data"
    },
    {
     "data": {
      "application/vnd.jupyter.widget-view+json": {
       "model_id": "c42a4a1204654e23a199abc158778122",
       "version_major": 2,
       "version_minor": 0
      },
      "text/plain": [
       "Validation: |          | 0/? [00:00<?, ?it/s]"
      ]
     },
     "metadata": {},
     "output_type": "display_data"
    },
    {
     "name": "stderr",
     "output_type": "stream",
     "text": [
      "`Trainer.fit` stopped: `max_epochs=10` reached.\n"
     ]
    },
    {
     "data": {
      "application/vnd.jupyter.widget-view+json": {
       "model_id": "bf704478990d4688998b146abf6556dc",
       "version_major": 2,
       "version_minor": 0
      },
      "text/plain": [
       "Testing: |          | 0/? [00:00<?, ?it/s]"
      ]
     },
     "metadata": {},
     "output_type": "display_data"
    },
    {
     "name": "stdout",
     "output_type": "stream",
     "text": [
      "────────────────────────────────────────────────────────────────────────────────────────────────────────────────────────\n",
      "       Test metric             DataLoader 0\n",
      "────────────────────────────────────────────────────────────────────────────────────────────────────────────────────────\n",
      "        test_loss            1.91326904296875\n",
      "        test_mape           22.939716339111328\n",
      "       test_nrmse           0.24038974940776825\n",
      "         test_r2           -0.013859041035175323\n",
      "────────────────────────────────────────────────────────────────────────────────────────────────────────────────────────\n"
     ]
    },
    {
     "name": "stderr",
     "output_type": "stream",
     "text": [
      "GPU available: False, used: False\n",
      "TPU available: False, using: 0 TPU cores\n",
      "IPU available: False, using: 0 IPUs\n",
      "HPU available: False, using: 0 HPUs\n"
     ]
    },
    {
     "name": "stdout",
     "output_type": "stream",
     "text": [
      "Printing test results...\n",
      "[{'test_loss': 1.91326904296875, 'test_nrmse': 0.24038974940776825, 'test_mape': 22.939716339111328, 'test_r2': -0.013859041035175323}]\n",
      "Printing model summary...\n",
      "----------------------------------------------------------------\n",
      "        Layer (type)               Output Shape         Param #\n",
      "================================================================\n",
      "            Linear-1               [-1, 13, 13]             182\n",
      "================================================================\n",
      "Total params: 182\n",
      "Trainable params: 182\n",
      "Non-trainable params: 0\n",
      "----------------------------------------------------------------\n",
      "Input size (MB): 0.00\n",
      "Forward/backward pass size (MB): 0.00\n",
      "Params size (MB): 0.00\n",
      "Estimated Total Size (MB): 0.00\n",
      "----------------------------------------------------------------\n"
     ]
    },
    {
     "name": "stderr",
     "output_type": "stream",
     "text": [
      "/Users/benmueller/2024Classes/BrentResearch/git_repos/yeastdnnexplorer/.venv/lib/python3.11/site-packages/pytorch_lightning/callbacks/model_checkpoint.py:653: Checkpoint directory logs/tensorboard_logs/lightning_logs/version_86/checkpoints exists and is not empty.\n",
      "\n",
      "  | Name    | Type                        | Params\n",
      "--------------------------------------------------------\n",
      "0 | mape    | MeanAbsolutePercentageError | 0     \n",
      "1 | r2      | R2Score                     | 0     \n",
      "2 | linear1 | Linear                      | 182   \n",
      "--------------------------------------------------------\n",
      "182       Trainable params\n",
      "0         Non-trainable params\n",
      "182       Total params\n",
      "0.001     Total estimated model params size (MB)\n"
     ]
    },
    {
     "data": {
      "application/vnd.jupyter.widget-view+json": {
       "model_id": "d8773cf8349a42a594287b4678177fa5",
       "version_major": 2,
       "version_minor": 0
      },
      "text/plain": [
       "Sanity Checking: |          | 0/? [00:00<?, ?it/s]"
      ]
     },
     "metadata": {},
     "output_type": "display_data"
    },
    {
     "data": {
      "application/vnd.jupyter.widget-view+json": {
       "model_id": "f7de929c552c4603ad24eecbe0027ce2",
       "version_major": 2,
       "version_minor": 0
      },
      "text/plain": [
       "Training: |          | 0/? [00:00<?, ?it/s]"
      ]
     },
     "metadata": {},
     "output_type": "display_data"
    },
    {
     "data": {
      "application/vnd.jupyter.widget-view+json": {
       "model_id": "f224f28c9b364d44b78955bb7c134e8c",
       "version_major": 2,
       "version_minor": 0
      },
      "text/plain": [
       "Validation: |          | 0/? [00:00<?, ?it/s]"
      ]
     },
     "metadata": {},
     "output_type": "display_data"
    },
    {
     "data": {
      "application/vnd.jupyter.widget-view+json": {
       "model_id": "656906300e3242d09af328766130a67e",
       "version_major": 2,
       "version_minor": 0
      },
      "text/plain": [
       "Validation: |          | 0/? [00:00<?, ?it/s]"
      ]
     },
     "metadata": {},
     "output_type": "display_data"
    },
    {
     "data": {
      "application/vnd.jupyter.widget-view+json": {
       "model_id": "61e1d3f792344f24b79ed46db719227c",
       "version_major": 2,
       "version_minor": 0
      },
      "text/plain": [
       "Validation: |          | 0/? [00:00<?, ?it/s]"
      ]
     },
     "metadata": {},
     "output_type": "display_data"
    },
    {
     "data": {
      "application/vnd.jupyter.widget-view+json": {
       "model_id": "7ed17a0deae246208aae434d39929da4",
       "version_major": 2,
       "version_minor": 0
      },
      "text/plain": [
       "Validation: |          | 0/? [00:00<?, ?it/s]"
      ]
     },
     "metadata": {},
     "output_type": "display_data"
    },
    {
     "data": {
      "application/vnd.jupyter.widget-view+json": {
       "model_id": "ab08320af9b04ea19e4a267cc2584401",
       "version_major": 2,
       "version_minor": 0
      },
      "text/plain": [
       "Validation: |          | 0/? [00:00<?, ?it/s]"
      ]
     },
     "metadata": {},
     "output_type": "display_data"
    },
    {
     "data": {
      "application/vnd.jupyter.widget-view+json": {
       "model_id": "7e4a24d0751d46c78b9dc6f478147c19",
       "version_major": 2,
       "version_minor": 0
      },
      "text/plain": [
       "Validation: |          | 0/? [00:00<?, ?it/s]"
      ]
     },
     "metadata": {},
     "output_type": "display_data"
    },
    {
     "data": {
      "application/vnd.jupyter.widget-view+json": {
       "model_id": "abb060e6a2d34028ad49caff74b72d81",
       "version_major": 2,
       "version_minor": 0
      },
      "text/plain": [
       "Validation: |          | 0/? [00:00<?, ?it/s]"
      ]
     },
     "metadata": {},
     "output_type": "display_data"
    },
    {
     "data": {
      "application/vnd.jupyter.widget-view+json": {
       "model_id": "6041af5a992d44ff8fb65a520cbea8af",
       "version_major": 2,
       "version_minor": 0
      },
      "text/plain": [
       "Validation: |          | 0/? [00:00<?, ?it/s]"
      ]
     },
     "metadata": {},
     "output_type": "display_data"
    },
    {
     "data": {
      "application/vnd.jupyter.widget-view+json": {
       "model_id": "b83e5aab0816440189a5908f916be4a1",
       "version_major": 2,
       "version_minor": 0
      },
      "text/plain": [
       "Validation: |          | 0/? [00:00<?, ?it/s]"
      ]
     },
     "metadata": {},
     "output_type": "display_data"
    },
    {
     "data": {
      "application/vnd.jupyter.widget-view+json": {
       "model_id": "ea85d01504c94f3581fdf8c7bdc9830a",
       "version_major": 2,
       "version_minor": 0
      },
      "text/plain": [
       "Validation: |          | 0/? [00:00<?, ?it/s]"
      ]
     },
     "metadata": {},
     "output_type": "display_data"
    },
    {
     "name": "stderr",
     "output_type": "stream",
     "text": [
      "`Trainer.fit` stopped: `max_epochs=10` reached.\n"
     ]
    },
    {
     "data": {
      "application/vnd.jupyter.widget-view+json": {
       "model_id": "46b6e1e03e8f45b2a1d94a8a9b970b2b",
       "version_major": 2,
       "version_minor": 0
      },
      "text/plain": [
       "Testing: |          | 0/? [00:00<?, ?it/s]"
      ]
     },
     "metadata": {},
     "output_type": "display_data"
    },
    {
     "name": "stdout",
     "output_type": "stream",
     "text": [
      "────────────────────────────────────────────────────────────────────────────────────────────────────────────────────────\n",
      "       Test metric             DataLoader 0\n",
      "────────────────────────────────────────────────────────────────────────────────────────────────────────────────────────\n",
      "        test_loss             2.5683434009552\n",
      "        test_mape            11.32097053527832\n",
      "       test_nrmse           0.2422269582748413\n",
      "         test_r2           -0.039482638239860535\n",
      "────────────────────────────────────────────────────────────────────────────────────────────────────────────────────────\n"
     ]
    },
    {
     "name": "stderr",
     "output_type": "stream",
     "text": [
      "GPU available: False, used: False\n",
      "TPU available: False, using: 0 TPU cores\n",
      "IPU available: False, using: 0 IPUs\n",
      "HPU available: False, using: 0 HPUs\n"
     ]
    },
    {
     "name": "stdout",
     "output_type": "stream",
     "text": [
      "Printing test results...\n",
      "[{'test_loss': 2.5683434009552, 'test_nrmse': 0.2422269582748413, 'test_mape': 11.32097053527832, 'test_r2': -0.039482638239860535}]\n",
      "Printing model summary...\n",
      "----------------------------------------------------------------\n",
      "        Layer (type)               Output Shape         Param #\n",
      "================================================================\n",
      "            Linear-1               [-1, 13, 13]             182\n",
      "================================================================\n",
      "Total params: 182\n",
      "Trainable params: 182\n",
      "Non-trainable params: 0\n",
      "----------------------------------------------------------------\n",
      "Input size (MB): 0.00\n",
      "Forward/backward pass size (MB): 0.00\n",
      "Params size (MB): 0.00\n",
      "Estimated Total Size (MB): 0.00\n",
      "----------------------------------------------------------------\n"
     ]
    },
    {
     "name": "stderr",
     "output_type": "stream",
     "text": [
      "\n",
      "  | Name    | Type                        | Params\n",
      "--------------------------------------------------------\n",
      "0 | mape    | MeanAbsolutePercentageError | 0     \n",
      "1 | r2      | R2Score                     | 0     \n",
      "2 | linear1 | Linear                      | 182   \n",
      "--------------------------------------------------------\n",
      "182       Trainable params\n",
      "0         Non-trainable params\n",
      "182       Total params\n",
      "0.001     Total estimated model params size (MB)\n"
     ]
    },
    {
     "data": {
      "application/vnd.jupyter.widget-view+json": {
       "model_id": "c3bb0a329fa84054af080d53787dc516",
       "version_major": 2,
       "version_minor": 0
      },
      "text/plain": [
       "Sanity Checking: |          | 0/? [00:00<?, ?it/s]"
      ]
     },
     "metadata": {},
     "output_type": "display_data"
    },
    {
     "data": {
      "application/vnd.jupyter.widget-view+json": {
       "model_id": "b7f31c2b4fed4236812c3171b08e8491",
       "version_major": 2,
       "version_minor": 0
      },
      "text/plain": [
       "Training: |          | 0/? [00:00<?, ?it/s]"
      ]
     },
     "metadata": {},
     "output_type": "display_data"
    },
    {
     "data": {
      "application/vnd.jupyter.widget-view+json": {
       "model_id": "a525194384664be5aeb7207c7d89a148",
       "version_major": 2,
       "version_minor": 0
      },
      "text/plain": [
       "Validation: |          | 0/? [00:00<?, ?it/s]"
      ]
     },
     "metadata": {},
     "output_type": "display_data"
    },
    {
     "data": {
      "application/vnd.jupyter.widget-view+json": {
       "model_id": "d74b94712d7043deb0a0668600dc313f",
       "version_major": 2,
       "version_minor": 0
      },
      "text/plain": [
       "Validation: |          | 0/? [00:00<?, ?it/s]"
      ]
     },
     "metadata": {},
     "output_type": "display_data"
    },
    {
     "data": {
      "application/vnd.jupyter.widget-view+json": {
       "model_id": "2618a7abb009453ab22c332f8f2532d8",
       "version_major": 2,
       "version_minor": 0
      },
      "text/plain": [
       "Validation: |          | 0/? [00:00<?, ?it/s]"
      ]
     },
     "metadata": {},
     "output_type": "display_data"
    },
    {
     "data": {
      "application/vnd.jupyter.widget-view+json": {
       "model_id": "25d6443bd7634021a44970326cc2ac60",
       "version_major": 2,
       "version_minor": 0
      },
      "text/plain": [
       "Validation: |          | 0/? [00:00<?, ?it/s]"
      ]
     },
     "metadata": {},
     "output_type": "display_data"
    },
    {
     "data": {
      "application/vnd.jupyter.widget-view+json": {
       "model_id": "300e878dd4cb4b61ac4b6d5adc55311f",
       "version_major": 2,
       "version_minor": 0
      },
      "text/plain": [
       "Validation: |          | 0/? [00:00<?, ?it/s]"
      ]
     },
     "metadata": {},
     "output_type": "display_data"
    },
    {
     "data": {
      "application/vnd.jupyter.widget-view+json": {
       "model_id": "191e4348909c487d886b7b8a81678b30",
       "version_major": 2,
       "version_minor": 0
      },
      "text/plain": [
       "Validation: |          | 0/? [00:00<?, ?it/s]"
      ]
     },
     "metadata": {},
     "output_type": "display_data"
    },
    {
     "data": {
      "application/vnd.jupyter.widget-view+json": {
       "model_id": "ba68a0de0ef14073abec117637f7a226",
       "version_major": 2,
       "version_minor": 0
      },
      "text/plain": [
       "Validation: |          | 0/? [00:00<?, ?it/s]"
      ]
     },
     "metadata": {},
     "output_type": "display_data"
    },
    {
     "data": {
      "application/vnd.jupyter.widget-view+json": {
       "model_id": "f593a95882404b118338b26ef5a54330",
       "version_major": 2,
       "version_minor": 0
      },
      "text/plain": [
       "Validation: |          | 0/? [00:00<?, ?it/s]"
      ]
     },
     "metadata": {},
     "output_type": "display_data"
    },
    {
     "data": {
      "application/vnd.jupyter.widget-view+json": {
       "model_id": "f3ce109275774d83ad4729f1ae2d9b7b",
       "version_major": 2,
       "version_minor": 0
      },
      "text/plain": [
       "Validation: |          | 0/? [00:00<?, ?it/s]"
      ]
     },
     "metadata": {},
     "output_type": "display_data"
    },
    {
     "data": {
      "application/vnd.jupyter.widget-view+json": {
       "model_id": "a4597f48b05d42b1ab5af4b470bd4d9f",
       "version_major": 2,
       "version_minor": 0
      },
      "text/plain": [
       "Validation: |          | 0/? [00:00<?, ?it/s]"
      ]
     },
     "metadata": {},
     "output_type": "display_data"
    },
    {
     "name": "stderr",
     "output_type": "stream",
     "text": [
      "`Trainer.fit` stopped: `max_epochs=10` reached.\n"
     ]
    },
    {
     "data": {
      "application/vnd.jupyter.widget-view+json": {
       "model_id": "aaa6f83cbd73456489d456cb2042080d",
       "version_major": 2,
       "version_minor": 0
      },
      "text/plain": [
       "Testing: |          | 0/? [00:00<?, ?it/s]"
      ]
     },
     "metadata": {},
     "output_type": "display_data"
    },
    {
     "name": "stdout",
     "output_type": "stream",
     "text": [
      "────────────────────────────────────────────────────────────────────────────────────────────────────────────────────────\n",
      "       Test metric             DataLoader 0\n",
      "────────────────────────────────────────────────────────────────────────────────────────────────────────────────────────\n",
      "        test_loss            2.693371295928955\n",
      "        test_mape           17.527084350585938\n",
      "       test_nrmse           0.24757595360279083\n",
      "         test_r2           -0.012163707055151463\n",
      "────────────────────────────────────────────────────────────────────────────────────────────────────────────────────────\n",
      "Printing test results...\n",
      "[{'test_loss': 2.693371295928955, 'test_nrmse': 0.24757595360279083, 'test_mape': 17.527084350585938, 'test_r2': -0.012163707055151463}]\n",
      "Printing model summary...\n",
      "----------------------------------------------------------------\n",
      "        Layer (type)               Output Shape         Param #\n",
      "================================================================\n",
      "            Linear-1               [-1, 13, 13]             182\n",
      "================================================================\n",
      "Total params: 182\n",
      "Trainable params: 182\n",
      "Non-trainable params: 0\n",
      "----------------------------------------------------------------\n",
      "Input size (MB): 0.00\n",
      "Forward/backward pass size (MB): 0.00\n",
      "Params size (MB): 0.00\n",
      "Estimated Total Size (MB): 0.00\n",
      "----------------------------------------------------------------\n"
     ]
    }
   ],
   "source": [
    "# Setup and Helper Functions =================================================\n",
    "def get_linear_model(num_tfs):\n",
    "    return SimpleModel(\n",
    "        input_dim=num_tfs,\n",
    "        output_dim=num_tfs,\n",
    "        lr=0.01\n",
    "    )\n",
    "\n",
    "def print_results(model, test_results, num_tfs):\n",
    "    print(\"Printing test results...\")\n",
    "    print(test_results)  # this prints all metrics that were logged during the test phase\n",
    "\n",
    "    # print summary of model\n",
    "    print(\"Printing model summary...\")\n",
    "    summary(model, (num_tfs, num_tfs))\n",
    "\n",
    "def get_trainer():\n",
    "    return Trainer(\n",
    "        max_epochs=10,\n",
    "        deterministic=True,\n",
    "        accelerator=\"cpu\",\n",
    "        callbacks=[best_model_checkpoint],\n",
    "        logger=[tb_logger, csv_logger],\n",
    "    )\n",
    "\n",
    "best_model_checkpoint = ModelCheckpoint(\n",
    "    monitor=\"val_loss\",\n",
    "    mode=\"min\",\n",
    "    filename=\"best-model-{epoch:02d}-{val_loss:.2f}\",\n",
    "    save_top_k=1,\n",
    ")\n",
    "\n",
    "# for the dependent mean adjustment (experiment 2)\n",
    "tf_relationships_dict = {\n",
    "    0: [2, 4, 7],\n",
    "    1: [8],\n",
    "    2: [3, 9],\n",
    "    3: [1, 6],\n",
    "    4: [5],\n",
    "    5: [0, 2, 8],\n",
    "    6: [4],\n",
    "    7: [1, 4],\n",
    "    8: [6],\n",
    "    9: [0, 3, 8],\n",
    "}\n",
    "\n",
    "# for the mean adjustments with boolean logic (experiment 3)\n",
    "tf_relationships_dict_boolean_logic = {\n",
    "    0: [And(3, 4, 8), Or(3, 7), Or(1, 1)],\n",
    "    1: [And(5, Or(7, 8))],\n",
    "    2: [],\n",
    "    3: [Or(7, 9)],\n",
    "    4: [And(1, 2)],\n",
    "    5: [Or(1, 2)],\n",
    "    6: [And(4, Or(9, 7))],\n",
    "    7: [Or(5, And(2, 3))],\n",
    "    8: [And(6, 4)],\n",
    "    9: [],\n",
    "}\n",
    "\n",
    "    \n",
    "# First experiment (no mean adjustment) =====================================\n",
    "\n",
    "data_module = get_data_module(0.0, None, None)\n",
    "num_tfs = sum(data_module.n_sample)  # sum of all n_sample is the number of TFs\n",
    "model = get_linear_model(num_tfs)\n",
    "\n",
    "trainer = get_trainer()\n",
    "trainer.fit(model, data_module)\n",
    "\n",
    "test_results = trainer.test(model, datamodule=data_module)\n",
    "print_results(model, test_results, num_tfs)\n",
    "\n",
    "\n",
    "# Second experiment (TF dependent mean adjustment) ===========================\n",
    "data_module = get_data_module(\n",
    "    3.0, \n",
    "    perturbation_effect_adjustment_function_with_tf_relationships, \n",
    "    tf_relationships_dict\n",
    ")\n",
    "num_tfs = sum(data_module.n_sample)  # sum of all n_sample is the number of TFs\n",
    "model = get_linear_model(num_tfs)\n",
    "\n",
    "trainer = get_trainer()\n",
    "trainer.fit(model, data_module)\n",
    "\n",
    "test_results = trainer.test(model, datamodule=data_module)\n",
    "print_results(model, test_results, num_tfs)\n",
    "\n",
    "\n",
    "# Third experiment (TF dependent mean adjustment with boolean logic) ==========\n",
    "\n",
    "data_module = get_data_module(\n",
    "    3.0, \n",
    "    perturbation_effect_adjustment_function_with_tf_relationships_boolean_logic, \n",
    "    tf_relationships_dict_boolean_logic\n",
    ")\n",
    "num_tfs = sum(data_module.n_sample)  # sum of all n_sample is the number of TFs\n",
    "model = get_linear_model(num_tfs)\n",
    "\n",
    "trainer = get_trainer()\n",
    "trainer.fit(model, data_module)\n",
    "\n",
    "test_results = trainer.test(model, datamodule=data_module)\n",
    "print_results(model, test_results, num_tfs)"
   ]
  },
  {
   "cell_type": "markdown",
   "metadata": {},
   "source": [
    "Plotting Results"
   ]
  },
  {
   "cell_type": "code",
   "execution_count": 18,
   "metadata": {},
   "outputs": [
    {
     "data": {
      "image/png": "[encoded data removed]",
      "text/plain": [
       "<Figure size 1000x600 with 1 Axes>"
      ]
     },
     "metadata": {},
     "output_type": "display_data"
    }
   ],
   "source": [
    "models = [\"No Mean Adjustment\", \"TF Dependent Mean Adjustment\", \"TF Dependent Mean Adjust with Boolean Logic\"]\n",
    "mses = [1.5734, 1.7407, 1.7154]\n",
    "linear_mses = [1.9133, 2.568, 2.6934]\n",
    "\n",
    "plt.figure(figsize=(10, 6))\n",
    "plt.scatter(models, mses, color='blue')\n",
    "plt.scatter(models, linear_mses, color='orange')\n",
    "plt.title('Model MSE Comparison (bound mean = 3.0)')\n",
    "plt.xlabel('Model')\n",
    "plt.ylabel('MSE')\n",
    "plt.grid(True)\n",
    "plt.xticks(rotation=45, ha=\"right\")\n",
    "plt.legend(['Complex (Customizable) Model', 'Linear Model'])\n",
    "plt.tight_layout()  # Adjust layout to make room for the rotated x-axis labels\n",
    "plt.show()"
   ]
  }
 ],
 "metadata": {
  "kernelspec": {
   "display_name": ".venv",
   "language": "python",
   "name": "python3"
  },
  "language_info": {
   "codemirror_mode": {
    "name": "ipython",
    "version": 3
   },
   "file_extension": ".py",
   "mimetype": "text/x-python",
   "name": "python",
   "nbconvert_exporter": "python",
   "pygments_lexer": "ipython3",
   "version": "3.11.5"
  }
 },
 "nbformat": 4,
 "nbformat_minor": 2
}
